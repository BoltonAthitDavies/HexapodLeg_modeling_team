{
 "cells": [
  {
   "cell_type": "code",
   "execution_count": 1,
   "id": "098fa318",
   "metadata": {},
   "outputs": [],
   "source": [
    "import sys\n",
    "import os\n",
    "PATH_TO_PROJECT = \"/home/tanawatp/volta_ws/src/volta_controller\"\n",
    "sys.path.append(PATH_TO_PROJECT)\n",
    "from Utils.UtilsFunc import*\n",
    "from Utils.KinematicsFunc import*\n",
    "from pydrake.common.eigen_geometry import Quaternion\n",
    "from pydrake.math import RigidTransform, RotationMatrix, RollPitchYaw"
   ]
  },
  {
   "cell_type": "code",
   "execution_count": 2,
   "id": "732a4d92",
   "metadata": {},
   "outputs": [],
   "source": [
    "p,i = DefinePlant(model_name=\"Volta_rev4\",\n",
    "                  is_fixed=True,\n",
    "                  fixed_frame=\"torso\")\n",
    "desire_torso_height = 0.46\n",
    "q_L = SolveInverseKinematics(model_series=\"Volta\",\n",
    "                             plant=p,\n",
    "                             is_left=True,\n",
    "                             base_P_e=np.array([0.0, 0.125, -desire_torso_height]),\n",
    "                             base_R_e=RotationMatrix.MakeXRotation(0.0))\n",
    "q_R = SolveInverseKinematics(model_series=\"Volta\",\n",
    "                             plant=p,\n",
    "                             is_left=False,\n",
    "                             base_P_e=np.array([0.0, -0.125, -desire_torso_height]),\n",
    "                             base_R_e=RotationMatrix.MakeXRotation(0.0))"
   ]
  },
  {
   "cell_type": "code",
   "execution_count": 3,
   "id": "82f93c48",
   "metadata": {},
   "outputs": [
    {
     "data": {
      "text/plain": [
       "(True,\n",
       " array([-0.55373151,  0.        ,  0.        , -1.43701774, -0.88297172,\n",
       "         0.        ]))"
      ]
     },
     "execution_count": 3,
     "metadata": {},
     "output_type": "execute_result"
    }
   ],
   "source": [
    "q_L"
   ]
  },
  {
   "cell_type": "code",
   "execution_count": 4,
   "id": "d5c0ddb0",
   "metadata": {},
   "outputs": [
    {
     "data": {
      "text/plain": [
       "(True,\n",
       " array([0.5536631 , 0.        , 0.        , 1.43695963, 0.88306167,\n",
       "        0.        ]))"
      ]
     },
     "execution_count": 4,
     "metadata": {},
     "output_type": "execute_result"
    }
   ],
   "source": [
    "q_R"
   ]
  },
  {
   "cell_type": "code",
   "execution_count": 5,
   "id": "bd9da910",
   "metadata": {},
   "outputs": [
    {
     "data": {
      "text/plain": [
       "5.001999999999999"
      ]
     },
     "execution_count": 5,
     "metadata": {},
     "output_type": "execute_result"
    }
   ],
   "source": [
    "p.CalcTotalMass(p.CreateDefaultContext())"
   ]
  },
  {
   "cell_type": "code",
   "execution_count": null,
   "id": "1298d8d4",
   "metadata": {},
   "outputs": [
    {
     "name": "stdout",
     "output_type": "stream",
     "text": [
      "RotationMatrix([\n",
      "  [1.0, -0.0, 0.0],\n",
      "  [0.0, 1.0, 0.0],\n",
      "  [0.0, 0.0, 1.0],\n",
      "])\n",
      "[1. 0. 0. 0.]\n"
     ]
    }
   ],
   "source": [
    "\n",
    "R = RotationMatrix.MakeZRotation(0.0)\n",
    "print(R)\n",
    "Q = Quaternion(R.matrix())\n",
    "print(Q.wxyz())"
   ]
  },
  {
   "cell_type": "code",
   "execution_count": null,
   "id": "3f9eeb2f",
   "metadata": {},
   "outputs": [
    {
     "name": "stdout",
     "output_type": "stream",
     "text": [
      "RigidTransform(\n",
      "  R=RotationMatrix([\n",
      "    [1.0, 0.0, 0.0],\n",
      "    [0.0, 6.123233995736766e-17, -1.0],\n",
      "    [0.0, 1.0, 6.123233995736766e-17],\n",
      "  ]),\n",
      "  p=[0.0, 0.0, 0.0],\n",
      ")\n"
     ]
    }
   ],
   "source": [
    "T_B = RigidTransform(RotationMatrix.MakeXRotation(np.pi/2.0), [0, 0, 0.0])\n",
    "print(T_B)"
   ]
  },
  {
   "cell_type": "code",
   "execution_count": null,
   "id": "dc5ca26a",
   "metadata": {},
   "outputs": [
    {
     "name": "stdout",
     "output_type": "stream",
     "text": [
      "RigidTransform(\n",
      "  R=RotationMatrix([\n",
      "    [-0.4982616424118386, 0.8670267214458024, 0.0],\n",
      "    [-0.8670267214458024, -0.4982616424118386, 0.0],\n",
      "    [0.0, 0.0, 1.0],\n",
      "  ]),\n",
      "  p=[0.0, 0.0, -0.5],\n",
      ")\n"
     ]
    }
   ],
   "source": [
    "\n",
    "T_C = RigidTransform(RotationMatrix.MakeZRotation(2.62+np.pi/2.0), [0, 0, -0.5])\n",
    "print(T_C)"
   ]
  },
  {
   "cell_type": "code",
   "execution_count": 9,
   "id": "0d5a41c4",
   "metadata": {},
   "outputs": [
    {
     "data": {
      "text/plain": [
       "np.float64(-0.8670267214458024)"
      ]
     },
     "execution_count": 9,
     "metadata": {},
     "output_type": "execute_result"
    }
   ],
   "source": [
    "np.sin(2.62+np.pi/2.0)"
   ]
  },
  {
   "cell_type": "code",
   "execution_count": 10,
   "id": "ac17b0d7",
   "metadata": {},
   "outputs": [
    {
     "data": {
      "text/plain": [
       "np.float64(-0.4982616424118386)"
      ]
     },
     "execution_count": 10,
     "metadata": {},
     "output_type": "execute_result"
    }
   ],
   "source": [
    "np.cos(2.62+np.pi/2.0)"
   ]
  },
  {
   "cell_type": "code",
   "execution_count": null,
   "id": "8b6e9de4",
   "metadata": {},
   "outputs": [
    {
     "name": "stdout",
     "output_type": "stream",
     "text": [
      "RigidTransform(\n",
      "  R=RotationMatrix([\n",
      "    [-0.4982616424118386, 0.8670267214458024, 0.0],\n",
      "    [-5.3090074959691287e-17, -3.0509726275878066e-17, -1.0],\n",
      "    [-0.8670267214458024, -0.4982616424118386, 6.123233995736766e-17],\n",
      "  ]),\n",
      "  p=[0.0, 0.5, -3.061616997868383e-17],\n",
      ")\n"
     ]
    }
   ],
   "source": [
    "T = T_B.multiply(T_C)\n",
    "print(T)"
   ]
  },
  {
   "cell_type": "code",
   "execution_count": 11,
   "id": "522153a3",
   "metadata": {},
   "outputs": [
    {
     "name": "stdout",
     "output_type": "stream",
     "text": [
      "RigidTransform(\n",
      "  R=RotationMatrix([\n",
      "    [1.0, 0.0, 0.0],\n",
      "    [0.0, 6.123233995736766e-17, -1.0],\n",
      "    [0.0, 1.0, 6.123233995736766e-17],\n",
      "  ]),\n",
      "  p=[1.0, -1.0, 6.123233995736766e-17],\n",
      ")\n"
     ]
    }
   ],
   "source": [
    "T_D = RigidTransform(RotationMatrix.MakeXRotation(np.pi/2.0), [1.0, 0.0, 0.0])\n",
    "T_E = RigidTransform(RotationMatrix.MakeZRotation(0), [0, 0, 1.0])\n",
    "print(T_D.multiply(T_E))"
   ]
  },
  {
   "cell_type": "code",
   "execution_count": 12,
   "id": "bb5a62a1",
   "metadata": {},
   "outputs": [
    {
     "data": {
      "text/plain": [
       "RigidTransform(\n",
       "  R=RotationMatrix([\n",
       "    [1.0, 0.0, 0.0],\n",
       "    [0.0, 6.123233995736766e-17, -1.0],\n",
       "    [0.0, 1.0, 6.123233995736766e-17],\n",
       "  ]),\n",
       "  p=[1.0, 0.0, 0.0],\n",
       ")"
      ]
     },
     "execution_count": 12,
     "metadata": {},
     "output_type": "execute_result"
    }
   ],
   "source": [
    "T_D"
   ]
  },
  {
   "cell_type": "code",
   "execution_count": 1,
   "id": "cb7decc2",
   "metadata": {},
   "outputs": [
    {
     "name": "stdout",
     "output_type": "stream",
     "text": [
      "Entering disable_controller state\n",
      "Initial state: DisableController\n",
      "Controller enabled: False\n",
      "\n",
      "--- Testing state transitions ---\n",
      "Entering home state\n",
      "Home state entered 1.0 times\n",
      "After home command: Home\n",
      "1.0\n",
      "Entering walking state\n",
      "After walk command: walkExecution\n",
      "Entering hold_position state\n",
      "After hold command: HoldPosition\n",
      "Entering disable_controller state\n",
      "After disable command: DisableController\n",
      "Controller enabled: False\n"
     ]
    }
   ],
   "source": [
    "from statemachine import StateMachine, State\n",
    "import numpy as np\n",
    "\n",
    "class RobotControllerStateMachine(StateMachine):\n",
    "    \"\"\"\n",
    "    State machine for robot controller with different operational modes\n",
    "    \"\"\"\n",
    "    \n",
    "    # Define states\n",
    "    disable_controller = State('DisableController', initial=True)\n",
    "    hold_position = State('HoldPosition')\n",
    "    home = State('Home')\n",
    "    walking = State('walkExecution')\n",
    "    \n",
    "    # Define transitions based on operation_command values\n",
    "    # operation_command: -1=disable, 0=home, 1=walking, 2=hold_position\n",
    "    \n",
    "    # From disable_controller\n",
    "    to_home_from_disable = disable_controller.to(home)\n",
    "    to_walk_from_disable = disable_controller.to(walking)\n",
    "    to_hold_from_disable = disable_controller.to(hold_position)\n",
    "    stay_disabled = disable_controller.to(disable_controller)\n",
    "    \n",
    "    # From hold_position\n",
    "    to_disable_from_hold = hold_position.to(disable_controller)\n",
    "    to_home_from_hold = hold_position.to(home)\n",
    "    to_walk_from_hold = hold_position.to(walking)\n",
    "    stay_holding = hold_position.to(hold_position)\n",
    "    \n",
    "    # From home\n",
    "    to_disable_from_home = home.to(disable_controller)\n",
    "    to_walk_from_home = home.to(walking)\n",
    "    to_hold_from_home = home.to(hold_position)\n",
    "    stay_home = home.to(home)\n",
    "    \n",
    "    # From walking\n",
    "    to_disable_from_walk = walking.to(disable_controller)\n",
    "    to_home_from_walk = walking.to(home)\n",
    "    to_hold_from_walk = walking.to(hold_position)\n",
    "    stay_walk = walking.to(walking)\n",
    "    \n",
    "    def __init__(self):\n",
    "        super().__init__()\n",
    "        \n",
    "        # Robot state variables\n",
    "        self.controller_enable = False\n",
    "        self.operation_command = -1\n",
    "        self.current_position = np.zeros(12)  # 6 DOF per leg\n",
    "        \n",
    "        # Joint states\n",
    "        self.L_leg_q = np.zeros(6)\n",
    "        self.R_leg_q = np.zeros(6)\n",
    "        self.L_leg_qd = np.zeros(6)\n",
    "        self.R_leg_qd = np.zeros(6)\n",
    "        \n",
    "        # Home state management\n",
    "        self.home_state = \"init_trajectories\"\n",
    "        self.ind = 0\n",
    "        self.trajectory_time = 0.0\n",
    "        self.home_interval = 2.0  # Example value\n",
    "        self.timer_period = 0.01  # Example value\n",
    "        \n",
    "        # Trajectory objects (placeholder - implement based on your InitCubicTrajectories)\n",
    "        self.traj_L = None\n",
    "        self.traj_R = None\n",
    "        \n",
    "        # Initial positions (placeholder - set these based on your robot)\n",
    "        self.q_init_L = np.zeros((6, 1))\n",
    "        self.q_init_R = np.zeros((6, 1))\n",
    "        self.qd_init_L = np.zeros((6, 1))\n",
    "        self.qd_init_R = np.zeros((6, 1))\n",
    "        self.temp = 0.0\n",
    "    def set_operation_command(self, command):\n",
    "        \"\"\"Set walk command and trigger appropriate transition\"\"\"\n",
    "        self.operation_command = command\n",
    "        self._process_operation_command()\n",
    "    \n",
    "    def _process_operation_command(self):\n",
    "        \"\"\"Process walk command and trigger appropriate state transition\"\"\"\n",
    "        if self.operation_command == -1:\n",
    "            self._transition_to_disable()\n",
    "        elif self.operation_command == 0:\n",
    "            self._transition_to_home()\n",
    "        elif self.operation_command == 1:\n",
    "            self._transition_to_walk()\n",
    "        elif self.operation_command == 2:\n",
    "            self._transition_to_hold()\n",
    "    \n",
    "    def _transition_to_disable(self):\n",
    "        \"\"\"Transition to disable controller state\"\"\"\n",
    "        if self.current_state == self.hold_position:\n",
    "            self.to_disable_from_hold()\n",
    "        elif self.current_state == self.home:\n",
    "            self.to_disable_from_home()\n",
    "        elif self.current_state == self.walking:\n",
    "            self.to_disable_from_walk()\n",
    "        else:\n",
    "            self.stay_disabled()\n",
    "    \n",
    "    def _transition_to_home(self):\n",
    "        \"\"\"Transition to home state\"\"\"\n",
    "        if self.current_state == self.disable_controller:\n",
    "            self.to_home_from_disable()\n",
    "        elif self.current_state == self.hold_position:\n",
    "            self.to_home_from_hold()\n",
    "        elif self.current_state == self.walking:\n",
    "            self.to_home_from_walk()\n",
    "        else:\n",
    "            self.stay_home()\n",
    "    \n",
    "    def _transition_to_walk(self):\n",
    "        \"\"\"Transition to walk execution state\"\"\"\n",
    "        if self.current_state == self.disable_controller:\n",
    "            self.to_walk_from_disable()\n",
    "        elif self.current_state == self.hold_position:\n",
    "            self.to_walk_from_hold()\n",
    "        elif self.current_state == self.home:\n",
    "            self.to_walk_from_home()\n",
    "        else:\n",
    "            self.stay_walk()\n",
    "    \n",
    "    def _transition_to_hold(self):\n",
    "        \"\"\"Transition to hold position state\"\"\"\n",
    "        if self.current_state == self.disable_controller:\n",
    "            self.to_hold_from_disable()\n",
    "        elif self.current_state == self.home:\n",
    "            self.to_hold_from_home()\n",
    "        elif self.current_state == self.walking:\n",
    "            self.to_hold_from_walk()\n",
    "        else:\n",
    "            self.stay_holding()\n",
    "    \n",
    "    # State entry actions using decorator syntax\n",
    "    @disable_controller.enter\n",
    "    def enter_disable_controller(self):\n",
    "        \"\"\"Actions when entering disable_controller state\"\"\"\n",
    "        print(\"Entering disable_controller state\")\n",
    "        self.controller_enable = False\n",
    "    \n",
    "    @hold_position.enter\n",
    "    def enter_hold_position(self):\n",
    "        \"\"\"Actions when entering hold_position state\"\"\"\n",
    "        print(\"Entering hold_position state\")\n",
    "        self.controller_enable = True\n",
    "        self.L_leg_q = np.array(self.current_position)[0:6]\n",
    "        self.R_leg_q = np.array(self.current_position)[6:12]\n",
    "        self.L_leg_qd = np.zeros(6)\n",
    "        self.R_leg_qd = np.zeros(6)\n",
    "    \n",
    "    @home.enter\n",
    "    def enter_home(self):\n",
    "        \"\"\"Actions when entering home state\"\"\"\n",
    "        print(\"Entering home state\")\n",
    "        self.temp += 1.0\n",
    "        print(f\"Home state entered {self.temp} times\")\n",
    "        self.home_state = \"init_trajectories\"\n",
    "        self._init_home_trajectories()\n",
    "    \n",
    "    @walking.enter\n",
    "    def enter_walking(self):\n",
    "        \"\"\"Actions when entering walking state\"\"\"\n",
    "        print(self.temp)\n",
    "        print(\"Entering walking state\")\n",
    "        self.controller_enable = True\n",
    "    \n",
    "    # Home state sub-state management\n",
    "    def _init_home_trajectories(self):\n",
    "        \"\"\"Initialize trajectories for homing\"\"\"\n",
    "        self.controller_enable = False\n",
    "        self.ind = 0\n",
    "        self.trajectory_time = 0.0\n",
    "        \n",
    "        # Get target positions\n",
    "        q_L_f = self.q_init_L[:, self.ind]\n",
    "        q_R_f = self.q_init_R[:, self.ind]\n",
    "        qd_L_f = self.qd_init_L[:, self.ind]\n",
    "        qd_R_f = self.qd_init_R[:, self.ind]\n",
    "        \n",
    "        q_0 = np.array(self.current_position)\n",
    "        \n",
    "        # Initialize trajectories (you'll need to implement InitCubicTrajectories)\n",
    "        # This is a placeholder for your trajectory initialization\n",
    "        P_L = np.array([q_0[0:6], q_L_f]).T\n",
    "        V_L = np.array([np.zeros(6), np.zeros(6)]).T\n",
    "        \n",
    "        P_R = np.array([q_0[6:12], q_R_f]).T\n",
    "        V_R = np.array([np.zeros(6), np.zeros(6)]).T\n",
    "        \n",
    "        # self.traj_L = InitCubicTrajectories(P=P_L, V=V_L, \n",
    "        #                                    Times=[0, self.home_interval], n=6)\n",
    "        # self.traj_R = InitCubicTrajectories(P=P_R, V=V_R,\n",
    "        #                                    Times=[0, self.home_interval], n=6)\n",
    "        \n",
    "        self.home_state = \"evaluate_trajectories\"\n",
    "    \n",
    "    def update_home_state(self):\n",
    "        \"\"\"Update home state - call this in your main loop when in home state\"\"\"\n",
    "        if self.current_state != self.home:\n",
    "            return\n",
    "            \n",
    "        if self.home_state == \"evaluate_trajectories\":\n",
    "            self.controller_enable = True\n",
    "            \n",
    "            if self.trajectory_time <= self.home_interval:\n",
    "                # Evaluate trajectories (placeholder - implement based on your trajectory class)\n",
    "                for i in range(6):  # Assuming 6 DOF per leg\n",
    "                    # self.L_leg_q[i] = self.traj_L[i].value(self.trajectory_time)[0][0]\n",
    "                    # self.R_leg_q[i] = self.traj_R[i].value(self.trajectory_time)[0][0]\n",
    "                    # self.L_leg_qd[i] = self.traj_L[i].EvalDerivative(self.trajectory_time, 1)[0][0]\n",
    "                    # self.R_leg_qd[i] = self.traj_R[i].EvalDerivative(self.trajectory_time, 1)[0][0]\n",
    "                    pass\n",
    "                \n",
    "                self.trajectory_time += self.timer_period\n",
    "            else:\n",
    "                self.home_state = \"done\"\n",
    "                self.set_operation_command(2)  # Transition to hold_position\n",
    "    \n",
    "    def update_walking(self):\n",
    "        \"\"\"Update walk execution - call this in your main loop when in walk execution state\"\"\"\n",
    "        if self.current_state == self.walking:\n",
    "            self.UpdateDesiredJointStates()\n",
    "    \n",
    "    def UpdateDesiredJointStates(self):\n",
    "        \"\"\"Update desired joint states - implement your walk execution logic here\"\"\"\n",
    "        # Placeholder for your walk execution logic\n",
    "        pass\n",
    "    \n",
    "    def get_current_state_name(self):\n",
    "        \"\"\"Get the current state name as string\"\"\"\n",
    "        return self.current_state.name\n",
    "    \n",
    "    def is_controller_enabled(self):\n",
    "        \"\"\"Check if controller is enabled\"\"\"\n",
    "        return self.controller_enable\n",
    "\n",
    "\n",
    "# Example usage\n",
    "if __name__ == \"__main__\":\n",
    "    # Create robot controller state machine\n",
    "    robot = RobotControllerStateMachine()\n",
    "    \n",
    "    print(f\"Initial state: {robot.get_current_state_name()}\")\n",
    "    print(f\"Controller enabled: {robot.is_controller_enabled()}\")\n",
    "    \n",
    "    # Test state transitions\n",
    "    print(\"\\n--- Testing state transitions ---\")\n",
    "    \n",
    "    # Go to home\n",
    "    robot.set_operation_command(0)\n",
    "    print(f\"After home command: {robot.get_current_state_name()}\")\n",
    "    \n",
    "    # Go to walk execution\n",
    "    robot.set_operation_command(1)\n",
    "    print(f\"After walk command: {robot.get_current_state_name()}\")\n",
    "    \n",
    "    # Go to hold position\n",
    "    robot.set_operation_command(2)\n",
    "    print(f\"After hold command: {robot.get_current_state_name()}\")\n",
    "    \n",
    "    # Disable controller\n",
    "    robot.set_operation_command(-1)\n",
    "    print(f\"After disable command: {robot.get_current_state_name()}\")\n",
    "    \n",
    "    print(f\"Controller enabled: {robot.is_controller_enabled()}\")"
   ]
  },
  {
   "cell_type": "code",
   "execution_count": 3,
   "id": "7aaeb535",
   "metadata": {},
   "outputs": [
    {
     "name": "stdout",
     "output_type": "stream",
     "text": [
      "<bound method RobotControllerStateMachine.get_current_state_name of RobotControllerStateMachine(model=Model(state=disable_controller), state_field='state', current_state='disable_controller')>\n"
     ]
    }
   ],
   "source": [
    "while True:\n",
    "    user_input = int(input(\"Enter operation command (-1=disable, 0=home, 1=walking, 2=hold_position, q=quit): \"))\n",
    "    # print(type(user_input))\n",
    "    # print(user_input)\n",
    "    print(robot.get_current_state_name)\n",
    "    if user_input == 99:\n",
    "        break\n",
    "    robot.set_operation_command(user_input)"
   ]
  },
  {
   "cell_type": "code",
   "execution_count": 3,
   "id": "7675baf7",
   "metadata": {},
   "outputs": [
    {
     "name": "stdout",
     "output_type": "stream",
     "text": [
      "0\n"
     ]
    }
   ],
   "source": [
    "s = \"0\"\n",
    "print(int(s))"
   ]
  }
 ],
 "metadata": {
  "kernelspec": {
   "display_name": "drake_env",
   "language": "python",
   "name": "python3"
  },
  "language_info": {
   "codemirror_mode": {
    "name": "ipython",
    "version": 3
   },
   "file_extension": ".py",
   "mimetype": "text/x-python",
   "name": "python",
   "nbconvert_exporter": "python",
   "pygments_lexer": "ipython3",
   "version": "3.10.12"
  }
 },
 "nbformat": 4,
 "nbformat_minor": 5
}
